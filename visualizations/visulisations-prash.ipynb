{
  "nbformat": 4,
  "nbformat_minor": 0,
  "metadata": {
    "colab": {
      "provenance": [],
      "authorship_tag": "ABX9TyMJ4Fwl8DeyFvMSNpmAStfz",
      "include_colab_link": true
    },
    "kernelspec": {
      "name": "python3",
      "display_name": "Python 3"
    },
    "language_info": {
      "name": "python"
    }
  },
  "cells": [
    {
      "cell_type": "markdown",
      "metadata": {
        "id": "view-in-github",
        "colab_type": "text"
      },
      "source": [
        "<a href=\"https://colab.research.google.com/github/serayyagci1/coderate/blob/master/visualizations/visulisations-prash.ipynb\" target=\"_parent\"><img src=\"https://colab.research.google.com/assets/colab-badge.svg\" alt=\"Open In Colab\"/></a>"
      ]
    },
    {
      "cell_type": "code",
      "execution_count": null,
      "metadata": {
        "id": "3P4fCV3H8P-I"
      },
      "outputs": [],
      "source": [
        "import numpy as np\n",
        "import pandas as pd\n",
        "import matplotlib.pyplot as plt\n",
        "import seaborn as sns\n",
        "\n",
        "import matplotlib.pyplot as plt\n",
        "%matplotlib inline\n",
        "\n",
        "\n",
        "heart_df = pd.read_csv('heart_2022_cleared.csv')\n",
        "\n",
        "\n",
        "heart_df.describe(include='all')\n",
        "\n",
        "heart_df.dtypes\n",
        "\n",
        "#Pie chart for Race data\n",
        "colors = sns.color_palette('bright')\n",
        "heart_df['RaceEthnicityCategory'].value_counts().plot.pie(counterclock=False, autopct='%.0f%%', shadow = True,  colors = colors , ylabel = '' , title = 'Heart Disease vs Race' , explode = [0.05 , 0.05,0.05,0.05,0.05])\n",
        "plt.title('Distribution of Data by Race')\n",
        "\n",
        "#Distribution of data by Sex\n",
        "heart_df['Sex'].value_counts().plot.pie(counterclock=False, autopct='%.0f%%', colors = colors , shadow = True , explode=[0.05, 0.05] , ylabel = '' )\n",
        "plt.title('Heart Disease by Sex')\n",
        "\n",
        "\n",
        "\n",
        "#Stripplot BMI vs Heart Disease\n",
        "sns.set_palette('rocket_r')\n",
        "plt.figure(figsize=(15, 4))\n",
        "sns.stripplot(data=sample, x='HeartDisease', y='BMI')\n",
        "plt.title('Distribution of BMI vs Heart Disease')\n",
        "plt.xlabel('Heart Disease')\n",
        "plt.ylabel('Body Mass Index(BMI)')\n",
        "plt.show()\n",
        "\n",
        "\n",
        "#Density plot of BMI by HD status\n",
        "plt.figure(figsize = (5,5))\n",
        "sns.histplot(heart_df[heart_df['HeartDisease']=='No'], x=\"BMI\",  kde=True , color = 'blue' )\n",
        "sns.histplot(heart_df[heart_df['HeartDisease']=='Yes'], x=\"BMI\",  kde=True, color=\"red\")\n",
        "plt.legend(title='Distribution of BMI', loc=1, labels=['Heart Disease', 'No HeartDisease'])\n",
        "\n",
        "\n",
        "\n",
        "\n",
        "\n",
        "\n",
        "#Barplot of % of each race with HD\n",
        "plt.figure(figsize=(5, 5), dpi=80)\n",
        "x = heart_df.groupby('RaceEthnicityCategory').HeartDisease.value_counts(normalize=True).reset_index(name='Percentage')\n",
        "#print(x)\n",
        "\n",
        "x = x.loc[x.HeartDisease == 'Yes'].sort_values('Percentage', ascending=False)\n",
        "\n",
        "\n",
        "sns.barplot(data=x, x='RaceEthnicityCategory', y='Percentage', palette = 'pastel').set(title = 'Percentage of Race without Heart Disease' , xlabel = 'Race' )\n",
        "\n",
        "\n",
        "\n",
        "\n",
        "\n",
        "\n",
        "#Correlation plot\n",
        "# Convert 'Yes' and 'No' to 1 and 0\n",
        "heart_df.replace({'Yes': 1, 'No': 0}, inplace=True)\n",
        "\n",
        "# Selecting numeric columns for correlation\n",
        "numeric_cols = heart_df.select_dtypes(include=['float64', 'int64']).columns\n",
        "\n",
        "# Calculating correlation matrix\n",
        "corrmat = heart_df[numeric_cols].corr()\n",
        "\n",
        "# Top k correlations, Also adding 'PhysicalActivities'\n",
        "k = 15\n",
        "cols = corrmat.nlargest(k, 'HeartDisease')['HeartDisease'].index\n",
        "cols = cols.append(pd.Index(['PhysicalActivities']))\n",
        "\n",
        "# Calculating correlation coefficients for selected columns\n",
        "cm = np.corrcoef(heart_df[cols].values.T)\n",
        "\n",
        "#Visualizing the correlation matrix\n",
        "plt.figure(figsize=(12, 12))\n",
        "sns.set(font_scale=1.)\n",
        "hm = sns.heatmap(cm, cbar=True, annot=True, square=True, fmt='.2f', annot_kws={'size': 10},\n",
        "                 yticklabels=cols.values, xticklabels=cols.values, cmap=\"rainbow\", cbar_kws={\"shrink\": 0.8})\n",
        "hm.xaxis.tick_top()\n",
        "plt.xticks(rotation=45, ha='left')\n",
        "plt.show()\n",
        "\n",
        "\n",
        "\n"
      ]
    },
    {
      "cell_type": "code",
      "source": [],
      "metadata": {
        "id": "tHQRBd-uQGw8"
      },
      "execution_count": null,
      "outputs": []
    },
    {
      "cell_type": "code",
      "source": [],
      "metadata": {
        "id": "ofMCQc4oQG1I"
      },
      "execution_count": null,
      "outputs": []
    }
  ]
}